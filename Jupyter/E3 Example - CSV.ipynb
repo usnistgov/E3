{
 "cells": [
  {
   "cell_type": "markdown",
   "id": "3c567582",
   "metadata": {},
   "source": [
    "# Using E3 in a Jupyter Notebook\n",
    "\n",
    "As an API, E3 is designed to be callable from any programming language capable of making API requests. This example will illustrate the process using Python and assumes you already have Python installed."
   ]
  },
  {
   "cell_type": "markdown",
   "id": "02712a1d",
   "metadata": {},
   "source": [
    "**If running locally**, the **requests** library will need to be installed to access the API. This can be done using the following command in your computer's terminal/command prompt provided you have Python already installed (if **requests** is already installed you can skip this step)."
   ]
  },
  {
   "cell_type": "code",
   "execution_count": null,
   "id": "16d439ac",
   "metadata": {},
   "outputs": [],
   "source": [
    "%pip install -q requests"
   ]
  },
  {
   "cell_type": "markdown",
   "id": "74d56eeb",
   "metadata": {},
   "source": [
    "**If running Jupyter from the browser (JupyterLite)** you will need to run the following commands. Note that requests doesn't work in JupyterLite."
   ]
  },
  {
   "cell_type": "code",
   "execution_count": null,
   "id": "300aaa88",
   "metadata": {},
   "outputs": [],
   "source": [
    "from pyodide.ffi import to_js\n",
    "from IPython.display import JSON\n",
    "from js import Object, fetch"
   ]
  },
  {
   "cell_type": "markdown",
   "id": "24b029cb",
   "metadata": {},
   "source": [
    "With requests installed the only items remaining are to construct the JSON string to send to the API and to properly construct the API request in python. This notebook will cover constructing the JSON string from a CSV file. For examples of how to use input from JSON, XML and XLS/XLSX files see the **E3 Example JSON**, **E3 Example XML** and **E3 Example Excel** (in development) files, respectively. \n",
    "\n",
    "## Constructing the JSON string\n",
    "\n",
    "The format for the JSON request must be correct, otherwise E3 will return an error. In this section we will look at the required format for individual objects within E3 before putting all of them into a single JSON string for an API request. The discussion here will be focused on formatting, for a more in depth look please see the technical manual for E3. We'll start with the **Analysis** object format. **Note:** If you double click on some cells you may see **\\<br>** and **\\&emsp;** tags. These are used exclusively for formatting in Jupyter and **should not appear in the input JSON string sent to the E3 API.**"
   ]
  },
  {
   "cell_type": "markdown",
   "id": "51db30c6",
   "metadata": {},
   "source": [
    "\"analysisObject\" : { <br>\n",
    "&emsp;\"type\" : \"BCA\", <br>\n",
    "&emsp;\"projectType\" : \"Infrastructure\", <br>\n",
    "&emsp;\"outputObjects\" : [ <br>\n",
    "&emsp;&emsp;\"required\", <br>\n",
    "&emsp;&emsp;\"measure\", <br>\n",
    "&emsp;&emsp;\"optional\" <br>\n",
    "&emsp;], <br>\n",
    "&emsp;\"studyPeriod\" : 50, <br>\n",
    "&emsp;\"timestepValue\" : \"Year\", <br>\n",
    "&emsp;\"timestepComp\" : \"End_Of_Year\", <br>\n",
    "&emsp;\"outputReal\" : true, <br>\n",
    "&emsp;\"interestRate\": 0.03, <br>\n",
    "&emsp;\"discountRateReal\" : 0.03, <br>\n",
    "&emsp;\"inflationRate\" : 0.023, <br>\n",
    "&emsp;\"marr\" : 0.03, <br>\n",
    "&emsp;\"reinvestRate\" : 0.03, <br>\n",
    "&emsp;\"federalIncomeRate\": 0.22, <br>\n",
    "&emsp;\"otherIncomeRate\": 0.05, <br>\n",
    "&emsp;\"numberOfAlternatives\" : 2, <br>\n",
    "&emsp;\"baseAlternative\" : 0 <br>\n",
    "}"
   ]
  },
  {
   "cell_type": "markdown",
   "id": "e198e0a7",
   "metadata": {},
   "source": [
    "There should only be one Analysis object for the input. **Alternative** objects have the following basic format."
   ]
  },
  {
   "cell_type": "markdown",
   "id": "3475fe1b",
   "metadata": {},
   "source": [
    "{ <br>\n",
    "&emsp;\"id\" : 0, <br>\n",
    "&emsp;\"name\" : \"Alt 0 Status Quo\", <br>\n",
    "&emsp;\"bcns\" : [ <br>\n",
    "&emsp;&emsp;0 <br>\n",
    "&emsp;] <br>\n",
    "}"
   ]
  },
  {
   "cell_type": "markdown",
   "id": "a225b35d",
   "metadata": {},
   "source": [
    "Multiple alternatives are required for analysis since E3 assumes comparison to a baseline. If only one alternative exists in an analysis you can simply define an alternative with a single cost object with zero quant or quantValue (See the examples for BCNs. An example with two alternatives is presented here. Note that the **alternativeObjects** key is now prepended and the  associated value is now a list of alternative objects."
   ]
  },
  {
   "cell_type": "markdown",
   "id": "a109cd44",
   "metadata": {},
   "source": [
    "\"alternativeObjects\" : [ <br>\n",
    "&emsp;{ <br>\n",
    "&emsp;&emsp;\"id\" : 0, <br>\n",
    "&emsp;&emsp;\"name\" : \"Alt 0 Status Quo\", <br>\n",
    "&emsp;&emsp;\"bcns\" : [ <br>\n",
    "&emsp;&emsp;&emsp;0 <br>\n",
    "&emsp;&emsp;] <br>\n",
    "&emsp;}, <br>\n",
    "&emsp;{ <br>\n",
    "&emsp;&emsp;\"id\" : 1, <br>\n",
    "&emsp;&emsp;\"name\" : \"Alt 1 Build Monument\", <br>\n",
    "&emsp;&emsp;\"bcns\" : [ <br>\n",
    "&emsp;&emsp;&emsp;1, <br>\n",
    "&emsp;&emsp;&emsp;2, <br>\n",
    "&emsp;&emsp;&emsp;3, <br>\n",
    "&emsp;&emsp;&emsp;4 <br>\n",
    "&emsp;&emsp;] <br>\n",
    "&emsp;} <br>\n",
    "]"
   ]
  },
  {
   "cell_type": "markdown",
   "id": "90ec7822",
   "metadata": {},
   "source": [
    "An individual **BCN** object has the following format if the BCN doesn't recur."
   ]
  },
  {
   "cell_type": "markdown",
   "id": "897159f0",
   "metadata": {},
   "source": [
    "{ <br>\n",
    "&emsp;\"id\" : 0, <br>\n",
    "&emsp;\"altIds\" : [ <br>\n",
    "&emsp;&emsp;0 <br>\n",
    "&emsp;], <br>\n",
    "&emsp;\"type\" : \"Cost\", <br>\n",
    "&emsp;\"subType\" : \"Direct\", <br>\n",
    "&emsp;\"name\" : \"Investment Cost - Status Quo\", <br>\n",
    "&emsp;\"tags\" : \"Initial Investment\", <br>\n",
    "&emsp;\"initialOccurrence\" : 0, <br>\n",
    "&emsp;\"real\" : true, <br>\n",
    "&emsp;\"invest\" : true, <br>\n",
    "&emsp;\"residualValue\" : false, <br>\n",
    "&emsp;\"residualValueOnly\" : false, <br>\n",
    "&emsp;\"quantityValue\" : 0.0, <br>\n",
    "&emsp;\"quantity\" : 1.0 <br>\n",
    "}"
   ]
  },
  {
   "cell_type": "markdown",
   "id": "fc3d67ef",
   "metadata": {},
   "source": [
    "If the **BCN** does recur it has the following general format."
   ]
  },
  {
   "cell_type": "markdown",
   "id": "1085096b",
   "metadata": {},
   "source": [
    "{ <br>\n",
    "&emsp;\"id\" : 2, <br>\n",
    "&emsp;\"altIds\" : [ <br>\n",
    "&emsp;&emsp;1 <br>\n",
    "&emsp;], <br>\n",
    "&emsp;\"type\" : \"Cost\", <br>\n",
    "&emsp;\"subType\" : \"Direct\", <br>\n",
    "&emsp;\"name\" : \"Maintain Monument\", <br>\n",
    "&emsp;\"tags\" : \"OMR Costs\", <br>\n",
    "&emsp;\"initialOccurrence\" : 1, <br>\n",
    "&emsp;\"real\" : true, <br>\n",
    "&emsp;\"invest\" : false, <br>\n",
    "&emsp;\"life\" : 50, <br>\n",
    "&emsp;\"residualValue\" : false, <br>\n",
    "&emsp;\"residualValueOnly\" : false, <br>\n",
    "&emsp;\"recur\" : { <br>\n",
    "&emsp;&emsp;\"interval\" : 1, <br>\n",
    "&emsp;&emsp;\"end\" : 50, <br>\n",
    "&emsp;&emsp;\"varRate\" : \"Percent_Delta\", <br>\n",
    "&emsp;&emsp;\"varValue\" : 0.0 <br>\n",
    "&emsp;}, <br>\n",
    "&emsp;\"quantityValue\" : 1000.0, <br>\n",
    "&emsp;\"quantity\" : 1.0 <br>\n",
    "}"
   ]
  },
  {
   "cell_type": "markdown",
   "id": "957d450e",
   "metadata": {},
   "source": [
    "Now putting all **BCN** objects together."
   ]
  },
  {
   "cell_type": "markdown",
   "id": "6f45265c",
   "metadata": {},
   "source": [
    "\"bcnObjects\" : [ <br>\n",
    "&emsp;{ <br>\n",
    "&emsp;&emsp;\"id\" : 0, <br>\n",
    "&emsp;&emsp;\"altIds\" : [ <br>\n",
    "&emsp;&emsp;&emsp;0 <br>\n",
    "&emsp;&emsp;], <br>\n",
    "&emsp;&emsp;\"type\" : \"Cost\", <br>\n",
    "&emsp;&emsp;\"subType\" : \"Direct\", <br>\n",
    "&emsp;&emsp;\"name\" : \"Investment Cost - Status Quo\", <br>\n",
    "&emsp;&emsp;\"tags\" : \"Initial Investment\", <br>\n",
    "&emsp;&emsp;\"initialOccurrence\" : 0, <br>\n",
    "&emsp;&emsp;\"real\" : true, <br>\n",
    "&emsp;&emsp;\"invest\" : true, <br>\n",
    "&emsp;&emsp;\"residualValue\" : false, <br>\n",
    "&emsp;&emsp;\"residualValueOnly\" : false, <br>\n",
    "&emsp;&emsp;\"quantityValue\" : 0.0, <br>\n",
    "&emsp;&emsp;\"quantity\" : 1.0 <br>\n",
    "&emsp;}, <br>\n",
    "&emsp;{ <br>\n",
    "&emsp;&emsp;\"id\" : 1, <br>\n",
    "&emsp;&emsp;\"altIds\" : [ <br>\n",
    "&emsp;&emsp;&emsp;1 <br>\n",
    "&emsp;&emsp;], <br>\n",
    "&emsp;&emsp;\"type\" : \"Cost\", <br>\n",
    "&emsp;&emsp;\"subType\" : \"Direct\", <br>\n",
    "&emsp;&emsp;\"name\" : \"Construct Monument\", <br>\n",
    "&emsp;&emsp;\"tags\" : \"Investment Cost\", <br>\n",
    "&emsp;&emsp;\"initialOccurrence\" : 0, <br>\n",
    "&emsp;&emsp;\"real\" : true, <br>\n",
    "&emsp;&emsp;\"invest\" : true, <br>\n",
    "&emsp;&emsp;\"residualValue\" : false, <br>\n",
    "&emsp;&emsp;\"residualValueOnly\" : false, <br>\n",
    "&emsp;&emsp;\"quantityValue\" : 100000.0, <br>\n",
    "&emsp;&emsp;\"quantity\" : 1.0 <br>\n",
    "&emsp;}, <br>\n",
    "&emsp;{ <br>\n",
    "&emsp;&emsp;\"id\" : 2, <br>\n",
    "&emsp;&emsp;\"altIds\" : [ <br>\n",
    "&emsp;&emsp;&emsp;1 <br>\n",
    "&emsp;&emsp;], <br>\n",
    "&emsp;&emsp;\"type\" : \"Cost\", <br>\n",
    "&emsp;&emsp;\"subType\" : \"Direct\", <br>\n",
    "&emsp;&emsp;\"name\" : \"Maintain Monument\", <br>\n",
    "&emsp;&emsp;\"tags\" : \"OMR Costs\", <br>\n",
    "&emsp;&emsp;\"initialOccurrence\" : 1, <br>\n",
    "&emsp;&emsp;\"real\" : true, <br>\n",
    "&emsp;&emsp;\"invest\" : false, <br>\n",
    "&emsp;&emsp;\"life\" : 50, <br>\n",
    "&emsp;&emsp;\"residualValue\" : false, <br>\n",
    "&emsp;&emsp;\"residualValueOnly\" : false, <br>\n",
    "&emsp;&emsp;\"recur\" : { <br>\n",
    "&emsp;&emsp;&emsp;\"interval\" : 1, <br>\n",
    "&emsp;&emsp;&emsp;\"end\" : 50, <br>\n",
    "&emsp;&emsp;&emsp;\"varRate\" : \"Percent_Delta\", <br>\n",
    "&emsp;&emsp;&emsp;\"varValue\" : 0.0 <br>\n",
    "&emsp;&emsp;}, <br>\n",
    "&emsp;&emsp;\"quantityValue\" : 1000.0, <br>\n",
    "&emsp;&emsp;\"quantity\" : 1.0 <br>\n",
    "&emsp;}, <br>\n",
    "&emsp;{ <br>\n",
    "&emsp;&emsp;\"id\" : 3, <br>\n",
    "&emsp;&emsp;\"altIds\" : [ <br>\n",
    "&emsp;&emsp;&emsp;1 <br>\n",
    "&emsp;&emsp;], <br>\n",
    "&emsp;&emsp;\"type\" : \"Benefit\", <br>\n",
    "&emsp;&emsp;\"subType\" : \"Direct\", <br>\n",
    "&emsp;&emsp;\"name\" : \"Free Publicity\", <br>\n",
    "&emsp;&emsp;\"tags\" : \"Publicity\", <br>\n",
    "&emsp;&emsp;\"initialOccurrence\" : 1, <br>\n",
    "&emsp;&emsp;\"real\" : true, <br>\n",
    "&emsp;&emsp;\"invest\" : false, <br>\n",
    "&emsp;&emsp;\"residualValue\" : false, <br>\n",
    "&emsp;&emsp;\"residualValueOnly\" : false, <br>\n",
    "&emsp;&emsp;\"quantityValue\" : 50000.0, <br>\n",
    "&emsp;&emsp;\"quantity\" : 1.0 <br>\n",
    "&emsp;}, <br>\n",
    "&emsp;{ <br>\n",
    "&emsp;&emsp;\"id\" : 4, <br>\n",
    "&emsp;&emsp;\"altIds\" : [ <br>\n",
    "&emsp;&emsp;&emsp;1 <br>\n",
    "&emsp;&emsp;], <br>\n",
    "&emsp;&emsp;\"type\" : \"Benefit\", <br>\n",
    "&emsp;&emsp;\"subType\" : \"Externality\", <br>\n",
    "&emsp;&emsp;\"name\" : \"Increased Tourism\", <br>\n",
    "&emsp;&emsp;\"tags\" : \"Tourism\", <br>\n",
    "&emsp;&emsp;\"initialOccurrence\" : 1, <br>\n",
    "&emsp;&emsp;\"real\" : true, <br>\n",
    "&emsp;&emsp;\"invest\" : false, <br>\n",
    "&emsp;&emsp;\"residualValue\" : false, <br>\n",
    "&emsp;&emsp;\"residualValueOnly\" : false, <br>\n",
    "&emsp;&emsp;\"recur\" : { <br>\n",
    "&emsp;&emsp;&emsp;\"interval\" : 1 <br>\n",
    "&emsp;&emsp;}, <br>\n",
    "&emsp;&emsp;\"quantityValue\" : 5000.0, <br>\n",
    "&emsp;&emsp;\"quantity\" : 1.0 <br>\n",
    "&emsp;} <br>\n",
    "]"
   ]
  },
  {
   "cell_type": "markdown",
   "id": "b349ba89",
   "metadata": {},
   "source": [
    "Now that the format is defined we can look at the CSV file (**Jupyter CSV.csv**). Since CSVs do not have a strict structure as compared to the required JSON formatting it's possible to construct a valid CSV for JSON construction that looks different from the one provided for this example. So long as the structure of values in the CSV file is in a form that can easily be parsed and converted to either a dictionary (we'll use this as an intermediary to constructing the JSON string) or a JSON string directly the format won't matter, though the code to parse the file will need to be altered for the given structure.\n",
    "\n",
    "A key aspect of making the file parsable is to ensure there are patterns that allow individual objects to be easily recognizable in terms of where they start and where they stop. The easiest way would be to make the CSV format match the JSON structure almost exactly. Doing so would allow it to be brought in as a string literal requiring only minor cleanup potentially only removal of white space characters before passing it directly to E3. There are valid reasons why this might be undesirable, including readability or requirements for whatever program generated the file. Regardless we will focus on an example where the CSV structure mirrors the JSON, but not exactly.\n",
    "\n",
    "For the example CSV major object types (**analysisObjects**, **alternativeObjects**, and **bcnObjects**) all exist in a row of the CSV file with only a curly bracket in the second row, making them easy to identify when parsing. Furthermore the alternatives and bcns within their respective larger object groupings all have the same final attribute making it easy to know when they stop. Additionally, curly brackets separate each individual object from another. These patterns are easy to generate when constructing the CSV and easy to exploit when parsing it. Also note that some patterns exist only to make visual inspection of the CSV file easier and are treated by the code identically to other patterns."
   ]
  },
  {
   "cell_type": "code",
   "execution_count": null,
   "id": "1584abf4",
   "metadata": {},
   "outputs": [],
   "source": [
    "def buildDictFromCSV(iFile, sub_dict = {}, on_line = []):\n",
    "    line = iFile.readline()\n",
    "    line = line.strip('\\n')\n",
    "    line = line.split(',')\n",
    "    global current_line\n",
    "    \n",
    "    # A single curly bracket denotes that the following dictionary is part of a list. \n",
    "    if line[0] == \"{\":\n",
    "        dict_list = []\n",
    "        list_dict = buildDictFromCSV(iFile, dict(), current_line)\n",
    "        dict_list.append(list_dict)\n",
    "        # A closing followed by an opening curly bracket denotes the continuation of a list\n",
    "        if current_line == ['}', '{']:\n",
    "            in_list = True\n",
    "            while in_list:\n",
    "                list_dict = buildDictFromCSV(iFile, dict(), current_line)\n",
    "                if current_line != ['}', '{']:\n",
    "                    in_list = False\n",
    "                dict_list.append(list_dict)\n",
    "        # A closing curly bracket followed by a closing square bracket denotes the end of a list.\n",
    "        if current_line == [\"}\", \"]\"]:\n",
    "            return dict_list\n",
    "        \n",
    "    # A closing curly bracket in the first column denotes the end of a key object in the input.\n",
    "    elif line[0] == \"}\":\n",
    "        current_line = line\n",
    "        return sub_dict\n",
    "    \n",
    "    elif len(line) == 2 and line[1] == \"}\":\n",
    "        current_line = line\n",
    "        return endOfKeyObject(iFile, sub_dict)\n",
    "\n",
    "    # A square bracket in the second column denotes that the following dictionaries are in a list.\n",
    "    elif line[1] == \"[\" or (len(on_line) == 1 and on_line[1] == \"[\"):\n",
    "        sub_dict[line[0]] = buildDictFromCSV(iFile)\n",
    "        return endOfKeyObject(iFile, sub_dict)\n",
    "    \n",
    "    # A curly bracket next to a valid attribute name (i.e. not a bracket) denotes a sub-dictionary for an attribute\n",
    "    elif len(line) == 2 and line[1] == \"{\" and line[0] != \"}\":\n",
    "        sub_dict[line[0]] = buildDictFromCSV(iFile, dict())\n",
    "        return endOfKeyObject(iFile, sub_dict)\n",
    "        \n",
    "    else:\n",
    "        sub_dict[line[0]] = line[1]\n",
    "        sub_dict = buildDictFromCSV(iFile, sub_dict)\n",
    "        return sub_dict\n",
    "    \n",
    "def endOfKeyObject(iFile, sub_dict):\n",
    "    try:\n",
    "        buildDictFromCSV(iFile, sub_dict)\n",
    "        return sub_dict\n",
    "    except IndexError:\n",
    "        return sub_dict"
   ]
  },
  {
   "cell_type": "markdown",
   "id": "9f9f1ef4",
   "metadata": {},
   "source": [
    "We will now call the function"
   ]
  },
  {
   "cell_type": "code",
   "execution_count": null,
   "id": "665286a8",
   "metadata": {},
   "outputs": [],
   "source": [
    "inputFile = \"Jupyter CSV.csv\" # This will work so long as the CSV file is in the same directory as the notebook\n",
    "key_objects = [\"analysisObject\",\"alternativeObjects\",\"bcnObjects\"]\n",
    "\n",
    "# We could use inputFile.open() if we want the whole file in memory, however we only need one pass to parse so using\n",
    "# with.open() works just as well with the added bonus of not requiring us to explicitly close the file when done\n",
    "input_dict = dict()\n",
    "with open(inputFile, 'r') as iFile:\n",
    "    for line in iFile:\n",
    "        line = line.split(',')\n",
    "        # The following if statement could be omitted if buildDictFromCSV were altered to be completely agnostic\n",
    "        # to how it gets initiated. The key_objects list is for later clean up of the dictionary, the additional code\n",
    "        # for this loop is minimal and the nature of E3 requires input object groupings be grouped in a particular\n",
    "        # manner so the explicit nature of this step is fine here.\n",
    "        if line[0] in key_objects:\n",
    "            input_dict[line[0]] = buildDictFromCSV(iFile, dict())\n",
    "\n",
    "print(input_dict)"
   ]
  },
  {
   "cell_type": "markdown",
   "id": "2aaafaf5",
   "metadata": {},
   "source": [
    "At this point some cleanup needs to be done before it's ready for the API request. First, the lists (i.e. [1;2;3;4]) need to be converted to a python format ([1,2,3,4]) and all numbers need to be converted to int or float. Lastly, the boolean variables need to be converted to their Python equivalant values (TRUE to True, FALSE to False). The CSV structure could be used to enforce this however it's instructive to illustrate how that process can be accomplished here."
   ]
  },
  {
   "cell_type": "code",
   "execution_count": null,
   "id": "b0cb4bc3",
   "metadata": {},
   "outputs": [],
   "source": [
    "def str_to_num(d):\n",
    "    tol = 1e-6\n",
    "    for key, value in d.items():\n",
    "        if isinstance(value, dict):\n",
    "            str_to_num(value)\n",
    "        elif isinstance(value, list):\n",
    "            for item in value:\n",
    "                str_to_num(item)\n",
    "        else:\n",
    "            try:\n",
    "                valueInt = int(value)\n",
    "                valueFloat = float(value)\n",
    "                if abs(float(valueInt)-valueFloat) < tol:\n",
    "                    d[key] = valueInt\n",
    "                else:\n",
    "                    d[key] = valueFloat\n",
    "            except ValueError:\n",
    "                try: \n",
    "                    d[key] = float(value)\n",
    "                except ValueError:\n",
    "                    if value == 'FALSE':\n",
    "                        d[key] = False\n",
    "                        \n",
    "                    elif value == 'TRUE':\n",
    "                        d[key] = True\n",
    "\n",
    "str_to_num(input_dict)\n",
    "print(input_dict)"
   ]
  },
  {
   "cell_type": "markdown",
   "id": "c4eacb23",
   "metadata": {},
   "source": [
    "Now list variables in the dictionary need to be properly adjusted. This can be done through a check of either the placeholder symbols used to keep the CSV readable, in this case \";\" or by looking for square brackets in a string variable."
   ]
  },
  {
   "cell_type": "code",
   "execution_count": null,
   "id": "fded61c9",
   "metadata": {},
   "outputs": [],
   "source": [
    "def list_convert(d):\n",
    "    tol = 1e-6\n",
    "    for key, value in d.items():\n",
    "        if isinstance(value, dict):\n",
    "            list_convert(value)\n",
    "        elif isinstance(value, list):\n",
    "            for item in value:\n",
    "                list_convert(item)\n",
    "        else:\n",
    "            try:\n",
    "                if \"[\" in value and isinstance(value,str):\n",
    "                    value = value.replace(';',',')\n",
    "                    value = value.strip('[')\n",
    "                    value = value.strip(']')\n",
    "                    value = value.split(',')\n",
    "                    try:\n",
    "                        for i in range(len(value)):\n",
    "                            itemInt = int(value[i])\n",
    "                            itemFloat = float(value[i])\n",
    "                            if abs(float(itemInt)-itemFloat) < tol:\n",
    "                                value[i] = itemInt\n",
    "                            else:\n",
    "                                value[i] = itemFloat\n",
    "                        d[key] = value\n",
    "                    except ValueError:\n",
    "                        d[key] = value\n",
    "            except TypeError:\n",
    "                pass\n",
    "\n",
    "list_convert(input_dict)\n",
    "print(input_dict)"
   ]
  },
  {
   "cell_type": "markdown",
   "id": "889dc3a2",
   "metadata": {},
   "source": [
    "An API key is required to use E3. Paste yours where it says API_KEY. To get an API key you need to go to https://e3.nist.gov, create a log in and request a new key. The key should be passed in the **Authorization** header. The **Accept** header defines the output the client will accept while the **Content-Type** header defines the format of the sent data."
   ]
  },
  {
   "cell_type": "code",
   "execution_count": null,
   "id": "105dd71d",
   "metadata": {},
   "outputs": [],
   "source": [
    "headers = {'Content-Type': \"application/json\", \n",
    "           'Accept': \"application/json\", \n",
    "           'Authorization': \"Api-Key: CXizFToEOIWa.a8606a6d-d9ae-4907-93a7-ea64c253c37f\"\n",
    "          }"
   ]
  },
  {
   "cell_type": "markdown",
   "id": "e229f252",
   "metadata": {},
   "source": [
    "The full request can now be made. **If running locally use the request library and the following code.**"
   ]
  },
  {
   "cell_type": "code",
   "execution_count": null,
   "id": "bb27e6ad",
   "metadata": {},
   "outputs": [],
   "source": [
    "import requests\n",
    "import json\n",
    "api_url = \"https://e3.nist.gov/api/v2/analysis\"\n",
    "response = requests.post(api_url, data=json.dumps(input_dict), headers=headers)\n",
    "response.json()\n",
    "response.status_code\n",
    "\n",
    "# The status code can be dropped if the request is successful\n",
    "if response.status_code == 200:\n",
    "    response = response.json()\n",
    "    print(response)\n",
    "else:\n",
    "    print(\"Error:\", response.status_code)"
   ]
  },
  {
   "cell_type": "markdown",
   "id": "514a3396",
   "metadata": {},
   "source": [
    "**If running through JupyterLite use the following code.**"
   ]
  },
  {
   "cell_type": "code",
   "execution_count": null,
   "id": "519e47ca",
   "metadata": {},
   "outputs": [],
   "source": [
    "import json\n",
    "\n",
    "resp = await fetch(\"https://e3.nist.gov/api/v2/analysis\",\n",
    "                       method = \"POST\",\n",
    "                       body = json.dumps(input_dict),\n",
    "                       credentials = \"same-origin\",\n",
    "                       headers = Object.fromEntries(to_js(headers))\n",
    "                      )\n",
    "response = await resp.text()\n",
    "response = json.loads(response)\n",
    "\n",
    "print(response)"
   ]
  },
  {
   "cell_type": "markdown",
   "id": "9896c0b8",
   "metadata": {},
   "source": [
    "We can now pull output from the reponse object."
   ]
  },
  {
   "cell_type": "code",
   "execution_count": null,
   "id": "a41c5bc4",
   "metadata": {},
   "outputs": [],
   "source": [
    "print(\"Net Benefits: Alt 0 Status Quo:\", response['measure'][0]['netBenefits'])\n",
    "print(\"Net Benefits: Alt 1 Build Monument:\", response['measure'][1]['netBenefits'])\n",
    "print(\"BCR: Alt 0 Status Quo:\", response['measure'][0]['bcr'])\n",
    "print(\"BCR: Alt 1 Build Monument:\", response['measure'][1]['bcr'])"
   ]
  },
  {
   "cell_type": "markdown",
   "id": "b965b8c7",
   "metadata": {},
   "source": [
    "Now we can write the output to an output CSV file"
   ]
  },
  {
   "cell_type": "code",
   "execution_count": null,
   "id": "8ebb7434",
   "metadata": {},
   "outputs": [],
   "source": [
    "import csv\n",
    "output_file = 'Jupyter CSV Output.csv'\n",
    "output_dict = response\n",
    "\n",
    "def writeDictToCSV(d, file):\n",
    "    for key, value in d.items():\n",
    "        if isinstance(value, dict):\n",
    "            writeDictToCSV(value, file)\n",
    "        elif isinstance(value, list):\n",
    "            try:\n",
    "                file.write(str(key) + \"\\n\")\n",
    "                for list_item in value:\n",
    "                    writeDictToCSV(list_item, file)\n",
    "            except AttributeError:\n",
    "                to_write = str(value) + '\\n'\n",
    "        else:\n",
    "            to_write = ','.join(str(i) for i in [key, value])\n",
    "            to_write = to_write + '\\n'\n",
    "            file.write(to_write)\n",
    "\n",
    "with open(output_file, 'w') as oFile:\n",
    "    writeDictToCSV(output_dict, oFile)"
   ]
  },
  {
   "cell_type": "code",
   "execution_count": null,
   "id": "25b6f917",
   "metadata": {},
   "outputs": [],
   "source": []
  }
 ],
 "metadata": {
  "kernelspec": {
   "display_name": "Python 3 (ipykernel)",
   "language": "python",
   "name": "python3"
  },
  "language_info": {
   "codemirror_mode": {
    "name": "ipython",
    "version": 3
   },
   "file_extension": ".py",
   "mimetype": "text/x-python",
   "name": "python",
   "nbconvert_exporter": "python",
   "pygments_lexer": "ipython3",
   "version": "3.11.0"
  }
 },
 "nbformat": 4,
 "nbformat_minor": 5
}
