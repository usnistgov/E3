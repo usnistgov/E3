{
 "cells": [
  {
   "cell_type": "markdown",
   "id": "3c567582",
   "metadata": {},
   "source": [
    "# Using E3 in a Jupyter Notebook - XML\n",
    "\n",
    "As an API, E3 is designed to be callable from any programming language capable of making API requests. This example will illustrate the process using Python."
   ]
  },
  {
   "cell_type": "markdown",
   "id": "072491d4",
   "metadata": {},
   "source": [
    "**If running locally**, the **requests** library will be installed to access the API. This can be done using the following command in your computer's terminal/command prompt provided you have Python already installed (if **requests** is already installed you can skip this step). A serializer to convert the XML to JSON without having to manually write code to parse the XML file is recommended. We will be using the **xmltodict** library for this purpose. Once the XML is converted to a Python dictionary we can then use Python's built in **JSON** library to prepare the string for the API request. If we want to convert the output to the original XML structure we can install the **dicttoxml** library."
   ]
  },
  {
   "cell_type": "code",
   "execution_count": null,
   "id": "c1cd281d",
   "metadata": {},
   "outputs": [],
   "source": [
    "%pip install -q requests\n",
    "%pip install -q xmltodict\n",
    "%pip install -q dicttoxml"
   ]
  },
  {
   "cell_type": "markdown",
   "id": "3e9feee1",
   "metadata": {},
   "source": [
    "**If running Jupyter from the browser** you will need to run the following commands."
   ]
  },
  {
   "cell_type": "code",
   "execution_count": null,
   "id": "b791d855",
   "metadata": {},
   "outputs": [],
   "source": [
    "from pyodide.ffi import to_js\n",
    "from IPython.display import JSON\n",
    "from js import Object, fetch\n",
    "%pip install -q xmltodict\n",
    "%pip install -q dicttoxml"
   ]
  },
  {
   "cell_type": "markdown",
   "id": "24b029cb",
   "metadata": {},
   "source": [
    "With requests installed the only items remaining are to construct the JSON string to send to the API and to properly construct the API request in python. This notebook will cover constructing the JSON string from scratch. For examples of how to use input from CSV, JSON and XLS/XLSX files see the **E3 Example CSV**, **E3 Example - JSON** and **E3 Example Excel** (in development) files, respectively. \n",
    "\n",
    "## Constructing the XML File\n",
    "\n",
    "The format for the XML file must be correct, otherwise E3 will return an error. In this section we will look at the required format for individual objects within E3 before putting all of them into a single XML file for an API. Once the file is constructed an example of how to use Python to read the XML file and convert it to JSON for the API request will be provided. The discussion here will be focused on formatting, for a more in depth look please see the technical manual for E3. We'll start with the **Analysis** object format. Double click on the cell below to see the XML encoding (Jupyter uses tags for formatting so they are supressed unless the cell is active)."
   ]
  },
  {
   "cell_type": "markdown",
   "id": "51db30c6",
   "metadata": {},
   "source": [
    "<analysisObject>\n",
    "    <type>\"BCA\"</type>\n",
    "    <projectType>\"Infrastructure\"</projectType>\n",
    "    <outputObjects>[\"required\", \"measure\", \"optional\"]</outputObjects>\n",
    "    <studyPeriod>50</studyPeriod>\n",
    "    <timestepValue>\"Year\"</timestepValue>\n",
    "    <timestepComp>\"End_Of_Year\"</timestepComp>\n",
    "    <outputReal>true</outputReal>\n",
    "    <interestRate>0.03</interestRate>\n",
    "    <discountRateReal>0.03</discountRateReal>\n",
    "    <inflationRate>0.023</inflationRate>\n",
    "    <marr>0.03</marr>\n",
    "    <reinvestRate>0.03</reinvestRate>\n",
    "    <federalIncomeRate>0.22</federalIncomeRate>\n",
    "    <otherIncomeRate>0.05</otherIncomeRate>\n",
    "    <numberOfAlternatives>2</numberOfAlternatives>\n",
    "    <baseAlternative>0</baseAlternative>\n",
    "</analysisObject>"
   ]
  },
  {
   "cell_type": "markdown",
   "id": "e198e0a7",
   "metadata": {},
   "source": [
    "There should only be one Analysis object for the input. **Alternative** objects have the following basic format."
   ]
  },
  {
   "cell_type": "markdown",
   "id": "3475fe1b",
   "metadata": {},
   "source": [
    "<id>0</id>\n",
    "<name>\"Alt 0 Status Quo\"</name>\n",
    "<bcns>[0]</bcns>"
   ]
  },
  {
   "cell_type": "markdown",
   "id": "a225b35d",
   "metadata": {},
   "source": [
    "Multiple alternatives are required for analysis since E3 assumes comparison to a baseline. If only one alternative exists in an analysis you can simply define an alternative with a single cost object with zero quant or quantValue (See the examples for BCNs. An example with two alternatives is presented here. Note that the **alternativeObjects** key is now prepended and the  associated value is now a list of alternative objects."
   ]
  },
  {
   "cell_type": "markdown",
   "id": "a109cd44",
   "metadata": {},
   "source": [
    "<alternativeObjects>[\n",
    "    <id>0</id>\n",
    "    <name>\"Alt 0 Status Quo\"</name>\n",
    "    <bcns>[0]</bcns>,\n",
    "    <id>1</id>\n",
    "    <name>\"Alt 1 Build Monument\"</name>\n",
    "    <bcns>[1,2,3,4]</bcns>\n",
    "]</alternativeObjects>"
   ]
  },
  {
   "cell_type": "markdown",
   "id": "90ec7822",
   "metadata": {},
   "source": [
    "An individual **BCN** object has the following format if the BCN doesn't recur."
   ]
  },
  {
   "cell_type": "markdown",
   "id": "897159f0",
   "metadata": {},
   "source": [
    "<id>0</id>\n",
    "<altIds>[0]</altIds>\n",
    "<type>\"Cost\"</type>\n",
    "<subType>\"Direct\"</subType>\n",
    "<name>\"Investment Cost - Status Quo\"</name>\n",
    "<tags>\"Initial Investment\"</tags>\n",
    "<initialOccurrence>0</initialOccurrence>\n",
    "<real>true</real>\n",
    "<invest>true</invest>\n",
    "<residualValue>false</residualValue>\n",
    "<residualValueOnly>false</residualValueOnly>\n",
    "<quantityValue>0.0</quantityValue>\n",
    "<quantity>1.0</quantity>"
   ]
  },
  {
   "cell_type": "markdown",
   "id": "fc3d67ef",
   "metadata": {},
   "source": [
    "If the BCN does recur it has the following general format."
   ]
  },
  {
   "cell_type": "markdown",
   "id": "1085096b",
   "metadata": {},
   "source": [
    "<id>2</id>\n",
    "<altIds>[1]</altIds>\n",
    "<type>\"Cost\"</type>\n",
    "<subType>\"Direct\"</subType>\n",
    "<name>\"Maintain Monument\"</name>\n",
    "<tags>\"OMR Costs\"</tags>\n",
    "<initialOccurrence>1</initialOccurrence>\n",
    "<real>true</real>\n",
    "<invest>false</invest>\n",
    "<life>50</life>\n",
    "<residualValue>false</residualValue>\n",
    "<residualValueOnly>false</residualValueOnly>\n",
    "<recur>\n",
    "    <interval>1</interval>\n",
    "    <end>50</end>\n",
    "    <varRate>\"Percent_Delta\"</varRate>\n",
    "    <varValue>0.0</varValue>\n",
    "</recur>,\n",
    "<quantityValue>1000.0</quantityValue>\n",
    "<quantity>1.0</quantity>"
   ]
  },
  {
   "cell_type": "markdown",
   "id": "957d450e",
   "metadata": {},
   "source": [
    "Now putting all BCNs together."
   ]
  },
  {
   "cell_type": "markdown",
   "id": "6f45265c",
   "metadata": {},
   "source": [
    "<bcnObjects>[\n",
    "    <id>0</id>\n",
    "    <altIds>[0]</altIds>\n",
    "    <type>\"Cost\"</type>\n",
    "    <subType>\"Direct\"</subType>\n",
    "    <name>\"Investment Cost - Status Quo\"</name>\n",
    "    <tags>\"Initial Investment\"</tags>\n",
    "    <initialOccurrence>0</initialOccurrence>\n",
    "    <real>true</real>\n",
    "    <invest>true</invest>\n",
    "    <residualValue>false</residualValue>\n",
    "    <residualValueOnly>false</residualValueOnly>\n",
    "    <quantityValue>0.0</quantityValue>\n",
    "    <quantity>1.0</quantity>\n",
    ",\n",
    "    <id>1</id>\n",
    "    <altIds>[1]</altIds>\n",
    "    <type>\"Cost\"</type>\n",
    "    <subType>\"Direct\"</subType>\n",
    "    <name>\"Construct Monument\"</name>\n",
    "    <tags>\"Investment Cost\"</tags>\n",
    "    <initialOccurrence>0</initialOccurrence>\n",
    "    <real>true</real>\n",
    "    <invest>true</invest>\n",
    "    <residualValue>false</residualValue>\n",
    "    <residualValueOnly>false</residualValueOnly>\n",
    "    <quantityValue>100000.0</quantityValue>\n",
    "    <quantity>1.0</quantity>\n",
    ",\n",
    "    <id>2</id>\n",
    "    <altIds>[1]</altIds>\n",
    "    <type>\"Cost\"</type>\n",
    "    <subType>\"Direct\"</subType>\n",
    "    <name>\"Maintain Monument\"</name>\n",
    "    <tags>\"OMR Costs\"</tags>\n",
    "    <initialOccurrence>1</initialOccurrence>\n",
    "    <real>true</real>\n",
    "    <invest>false</invest>\n",
    "    <life>50</life>\n",
    "    <residualValue>false</residualValue>\n",
    "    <residualValueOnly>false</residualValueOnly>\n",
    "    <recur>\n",
    "        <interval>1</interval>\n",
    "        <end>50</end>\n",
    "        <varRate>\"Percent_Delta\"</varRate>\n",
    "        <varValue>0.0</varValue>\n",
    "    </recur>\n",
    "    <quantityValue>1000.0</quantityValue>\n",
    "    <quantity>1.0</quantity>\n",
    ",\n",
    "    <id>3</id>\n",
    "    <altIds>[1]</altIds>\n",
    "    <type>\"Benefit\"</type>\n",
    "    <subType>\"Direct\"</subType>\n",
    "    <name>\"Free Publicity\"</name>\n",
    "    <tags>\"Publicity\"</tags>\n",
    "    <initialOccurrence>1</initialOccurrence>\n",
    "    <real>true</real>\n",
    "    <invest>false</invest>\n",
    "    <residualValue>false</residualValue>\n",
    "    <residualValueOnly>false</residualValueOnly>\n",
    "    <quantityValue>50000.0</quantityValue>\n",
    "    <quantity>1.0</quantity>\n",
    ",\n",
    "    <id>4</id>\n",
    "    <altIds>[1]</altIds>\n",
    "    <type>\"Benefit\"</type>\n",
    "    <subType>\"Externality\"</subType>\n",
    "    <name>\"Increased Tourism\"</name>\n",
    "    <tags>\"Tourism\"</tags>\n",
    "    <initialOccurrence>1</initialOccurrence>\n",
    "    <real>true</real>\n",
    "    <invest>false</invest>\n",
    "    <residualValue>false</residualValue>\n",
    "    <residualValueOnly>false</residualValueOnly>\n",
    "    <recur>\n",
    "        <interval>1</interval>\n",
    "    </recur>\n",
    "    <quantityValue>5000.0</quantityValue>\n",
    "    <quantity>1.0</quantity>\n",
    "]</bcnObjects>"
   ]
  },
  {
   "cell_type": "markdown",
   "id": "b349ba89",
   "metadata": {},
   "source": [
    "With all the individual pieces in place the final XML string can be constructed. Note that the following will be converted to a python dictionary, hence the capitalized **True** and **False**. This dictionary will then be converted to the JSON string using python's JSON library. If you want to work with JSON directly see the **E3 Example - JSON file**."
   ]
  },
  {
   "cell_type": "markdown",
   "id": "d732fb20",
   "metadata": {},
   "source": [
    "<?xml version=\"1.0\" encoding\"UTF-8\" ?>\n",
    "<root>\n",
    "    <analysisObject>\n",
    "        <type>BCA</type>\n",
    "        <projectType>Infrastructure</projectType>\n",
    "        <outputObjects>\n",
    "            <output0>required</output0>\n",
    "            <output1>measure</output1> \n",
    "            <output2>optional</output2>\n",
    "        </outputObjects>\n",
    "        <studyPeriod>50</studyPeriod>\n",
    "        <timestepValue>Year</timestepValue>\n",
    "        <timestepComp>End_Of_Year</timestepComp>\n",
    "        <outputReal>true</outputReal>\n",
    "        <interestRate>0.03</interestRate>\n",
    "        <discountRateReal>0.03</discountRateReal>\n",
    "        <inflationRate>0.023</inflationRate>\n",
    "        <marr>0.03</marr>\n",
    "        <reinvestRate>0.03</reinvestRate>\n",
    "        <federalIncomeRate>0.22</federalIncomeRate>\n",
    "        <otherIncomeRate>0.05</otherIncomeRate>\n",
    "        <numberOfAlternatives>2</numberOfAlternatives>\n",
    "        <baseAlternative>0</baseAlternative>\n",
    "    </analysisObject>\n",
    "    <alternativeObjects>\n",
    "        <alt1>\n",
    "            <id>0</id>\n",
    "            <name>Alt 0 Status Quo</name>\n",
    "            <bcns>\n",
    "                <bcnItem0>0</bcnItem0>\n",
    "            </bcns>\n",
    "        </alt1>\n",
    "        <alt2>\n",
    "            <id>1</id>\n",
    "            <name>Alt 1 Build Monument</name>\n",
    "            <bcns>\n",
    "                <bcnItem0>1</bcnItem0> \n",
    "                <bcnItem1>2</bcnItem1>\n",
    "                <bcnItem2>3</bcnItem2>\n",
    "                <bcnItem3>4</bcnItem3>\n",
    "            </bcns>\n",
    "        </alt2>\n",
    "    </alternativeObjects>\n",
    "    <bcnObjects>\n",
    "        <bcn0>\n",
    "            <id>0</id>\n",
    "            <altIds>\n",
    "                <altID0>0</altID0>\n",
    "            </altIds>\n",
    "            <type>Cost</type>\n",
    "            <subType>Direct</subType>\n",
    "            <name>Investment Cost - Status Quo</name>\n",
    "            <tags>Initial Investment</tags>\n",
    "            <initialOccurrence>0</initialOccurrence>\n",
    "            <real>true</real>\n",
    "            <invest>true</invest>\n",
    "            <residualValue>false</residualValue>\n",
    "            <residualValueOnly>false</residualValueOnly>\n",
    "            <quantityValue>0.0</quantityValue>\n",
    "            <quantity>1.0</quantity>\n",
    "        </bcn0>\n",
    "        <bcn1>\n",
    "            <id>1</id>\n",
    "            <altIds>\n",
    "                <altID0>1</altID0>\n",
    "            </altIds>\n",
    "            <type>Cost</type>\n",
    "            <subType>Direct</subType>\n",
    "            <name>Construct Monument</name>\n",
    "            <tags>Investment Cost</tags>\n",
    "            <initialOccurrence>0</initialOccurrence>\n",
    "            <real>true</real>\n",
    "            <invest>true</invest>\n",
    "            <residualValue>false</residualValue>\n",
    "            <residualValueOnly>false</residualValueOnly>\n",
    "            <quantityValue>100000.0</quantityValue>\n",
    "            <quantity>1.0</quantity>\n",
    "        </bcn1>\n",
    "        <bcn2>\n",
    "            <id>2</id>\n",
    "            <altIds>\n",
    "                <altID0>1</altID0>\n",
    "            </altIds>\n",
    "            <type>Cost</type>\n",
    "            <subType>Direct</subType>\n",
    "            <name>Maintain Monument</name>\n",
    "            <tags>OMR Costs</tags>\n",
    "            <initialOccurrence>1</initialOccurrence>\n",
    "            <real>true</real>\n",
    "            <invest>false</invest>\n",
    "            <life>50</life>\n",
    "            <residualValue>false</residualValue>\n",
    "            <residualValueOnly>false</residualValueOnly>\n",
    "            <recur>\n",
    "                <interval>1</interval>\n",
    "                <varRate>Percent_Delta</varRate>\n",
    "                <varValue>0.0</varValue>\n",
    "            </recur>\n",
    "            <quantityValue>1000.0</quantityValue>\n",
    "            <quantity>1.0</quantity>\n",
    "        </bcn2>\n",
    "        <bcn3>\n",
    "            <id>3</id>\n",
    "            <altIds>\n",
    "                <altID0>1</altID0>\n",
    "            </altIds>\n",
    "            <type>Benefit</type>\n",
    "            <subType>Direct</subType>\n",
    "            <name>Free Publicity</name>\n",
    "            <tags>Publicity</tags>\n",
    "            <initialOccurrence>1</initialOccurrence>\n",
    "            <real>true</real>\n",
    "            <invest>false</invest>\n",
    "            <residualValue>false</residualValue>\n",
    "            <residualValueOnly>false</residualValueOnly>\n",
    "            <quantityValue>50000.0</quantityValue>\n",
    "            <quantity>1.0</quantity>\n",
    "        </bcn3>\n",
    "        <bcn4>\n",
    "            <id>4</id>\n",
    "            <altIds>\n",
    "                <altID0>1</altID0>\n",
    "            </altIds>\n",
    "            <type>Benefit</type>\n",
    "            <subType>Externality</subType>\n",
    "            <name>Increased Tourism</name>\n",
    "            <tags>Tourism</tags>\n",
    "            <initialOccurrence>1</initialOccurrence>\n",
    "            <real>true</real>\n",
    "            <invest>false</invest>\n",
    "            <residualValue>false</residualValue>\n",
    "            <residualValueOnly>false</residualValueOnly>\n",
    "            <recur>\n",
    "                <interval>1</interval>\n",
    "            </recur>\n",
    "            <quantityValue>5000.0</quantityValue>\n",
    "            <quantity>1.0</quantity>\n",
    "        </bcn4>\n",
    "    </bcnObjects>\n",
    "</root>"
   ]
  },
  {
   "cell_type": "markdown",
   "id": "209711fb",
   "metadata": {},
   "source": [
    "XML will generally be stored in a file with the **XML** extention. For the purposes of this example we will use the **input.xml** file (note that the path to the file will change depending on your directory structure). If you examine the file you'll nbotice an additional level to the hierarchy, **root** as the parser we're using for the conversion to JSON requires that the xml structure has a root level."
   ]
  },
  {
   "cell_type": "code",
   "execution_count": null,
   "id": "a76aa845",
   "metadata": {},
   "outputs": [],
   "source": [
    "import xmltodict\n",
    "\n",
    "with open('input.xml', 'r') as xf:\n",
    "    inputDict = xmltodict.parse(xf.read())\n",
    "    \n",
    "print(inputDict)"
   ]
  },
  {
   "cell_type": "markdown",
   "id": "002f1830",
   "metadata": {},
   "source": [
    "While the data has been brought in, it isn't in a form that E3 will expect. All values are currently treated as strings and certain elements that E3 expects as lists are in a key-value pair format (i.e. the **bcns** attribute is a subdictionary of bcnItemX keys instead of a list of ints). Before converting this to a JSON string we;ll need to clean some of these things up. We'll start with conversions to numeric values where possible. We'll also take this opportunity to convert the boolean expressions to their Python dictionary equivalents."
   ]
  },
  {
   "cell_type": "code",
   "execution_count": null,
   "id": "43bd47aa",
   "metadata": {},
   "outputs": [],
   "source": [
    "def str_to_num(d):\n",
    "    tol = 1e-6\n",
    "    for key, value in d.items():\n",
    "        if isinstance(value, dict):\n",
    "            str_to_num(value)\n",
    "        else:\n",
    "            try:\n",
    "                valueInt = int(value)\n",
    "                valueFloat = float(value)\n",
    "                if abs(float(valueInt)-valueFloat) < tol:\n",
    "                    d[key] = valueInt\n",
    "                else:\n",
    "                    d[key] = valueFloat\n",
    "            except ValueError:\n",
    "                try: \n",
    "                    d[key] = float(value)\n",
    "                except ValueError:\n",
    "                    if value == 'false':\n",
    "                        d[key] = False\n",
    "                    elif value == 'true':\n",
    "                        d[key] = True\n",
    "\n",
    "str_to_num(inputDict)\n",
    "print(inputDict)"
   ]
  },
  {
   "cell_type": "markdown",
   "id": "19f3370b",
   "metadata": {},
   "source": [
    "The numbers have been corrected, however the issue with the lists remains. To correct that we need to first note which keys are expected as lists, for the present example that would be **outputObjects**, **alternativeObjects**, **bcns**, **bcnObjects** and **altIds**. The output has all of these listed as subdictionaries. Fortunately it is a relatively simple matter to convert them to the appropriate form."
   ]
  },
  {
   "cell_type": "code",
   "execution_count": null,
   "id": "ba590ab1",
   "metadata": {},
   "outputs": [],
   "source": [
    "from numpy import ndarray\n",
    "\n",
    "keys_to_convert = [\"outputObjects\", \"alternativeObjects\", \"bcns\", \"bcnObjects\", \"altIds\"]\n",
    "\n",
    "def subdict_to_list(d, key_list):\n",
    "    for key, value in d.items():\n",
    "        if isinstance(value, dict):\n",
    "            if key in key_list:\n",
    "                d[key] = list(value.values())\n",
    "            subdict_to_list(value, key_list)\n",
    "                \n",
    "subdict_to_list(inputDict, keys_to_convert)\n",
    "print(inputDict)"
   ]
  },
  {
   "cell_type": "markdown",
   "id": "cbcbf979",
   "metadata": {},
   "source": [
    "Now all that remains is to prune the corrected dictionary from the **root** key. We do this by noting that the desired dictionary is defined by the key objects **analysisObject**, **alternativeObjects**,and **bcnObjects**. If sensitivity, uncertainty, or any custom modules are being used that alter input they will need to be accounted for in this step."
   ]
  },
  {
   "cell_type": "code",
   "execution_count": null,
   "id": "5d156c89",
   "metadata": {},
   "outputs": [],
   "source": [
    "key_objects = [\"analysisObject\", \"alternativeObjects\", \"bcnObjects\"]\n",
    "\n",
    "finalInputDict = dict((object_key, inputDict[\"root\"][object_key]) for object_key in key_objects if object_key in inputDict[\"root\"])\n",
    "print(finalInputDict)"
   ]
  },
  {
   "cell_type": "markdown",
   "id": "889dc3a2",
   "metadata": {},
   "source": [
    "An API key is required to use E3. Paste yours where it says API_KEY. To get an API key you need to go to https://e3.nist.gov, create a log in and request a new key. The key should be passed in the **Authorization** header. The **Accept** header defines the output the client will accept while the **Content-Type** header defines the format of the sent data."
   ]
  },
  {
   "cell_type": "code",
   "execution_count": null,
   "id": "105dd71d",
   "metadata": {},
   "outputs": [],
   "source": [
    "headers = {'Content-Type': \"application/json\", \n",
    "           'Accept': \"application/json\", \n",
    "           'Authorization': \"Api-Key: CXizFToEOIWa.a8606a6d-d9ae-4907-93a7-ea64c253c37f\"\n",
    "          }"
   ]
  },
  {
   "cell_type": "markdown",
   "id": "e229f252",
   "metadata": {},
   "source": [
    "The full request can now be made. **If running locally use the request library and the following code.**"
   ]
  },
  {
   "cell_type": "code",
   "execution_count": null,
   "id": "bb27e6ad",
   "metadata": {},
   "outputs": [],
   "source": [
    "import requests\n",
    "import json\n",
    "api_url = \"https://e3.nist.gov/api/v2/analysis\"\n",
    "response = requests.post(api_url, data=json.dumps(finalInputDict), headers=headers)\n",
    "response.json()\n",
    "response.status_code\n",
    "\n",
    "# The status code can be dropped if the request is successful\n",
    "if response.status_code == 200:\n",
    "    response = response.json()\n",
    "    print(response)\n",
    "else:\n",
    "    print(\"Error:\", response.status_code)"
   ]
  },
  {
   "cell_type": "markdown",
   "id": "790e033e",
   "metadata": {},
   "source": [
    "**If running through JupyterLite use the following code**"
   ]
  },
  {
   "cell_type": "code",
   "execution_count": null,
   "id": "3956350e",
   "metadata": {},
   "outputs": [],
   "source": [
    "import json\n",
    "\n",
    "resp = await fetch(\"https://e3.nist.gov/api/v2/analysis\",\n",
    "                       method = \"POST\",\n",
    "                       body = json.dumps(finalInputDict),\n",
    "                       credentials = \"same-origin\",\n",
    "                       headers = Object.fromEntries(to_js(headers))\n",
    "                      )\n",
    "response = await resp.text()\n",
    "response = json.loads(response)"
   ]
  },
  {
   "cell_type": "markdown",
   "id": "efb74fc0",
   "metadata": {},
   "source": [
    "We can now pull output from the reponse object."
   ]
  },
  {
   "cell_type": "code",
   "execution_count": null,
   "id": "7cbb69fe",
   "metadata": {},
   "outputs": [],
   "source": [
    "print(\"Net Benefits: Alt 0 Status Quo:\", response['measure'][0]['netBenefits'])\n",
    "print(\"Net Benefits: Alt 1 Build Monument:\", response['measure'][1]['netBenefits'])\n",
    "print(\"BCR: Alt 0 Status Quo:\", response['measure'][0]['bcr'])\n",
    "print(\"BCR: Alt 1 Build Monument:\", response['measure'][1]['bcr'])"
   ]
  },
  {
   "cell_type": "markdown",
   "id": "d775e8e3",
   "metadata": {},
   "source": [
    "Once the request is received it can be converted back into XML format. First we need to convert it to a dictionary using the json library then convert the dictionary to xml using the dicttoxml library."
   ]
  },
  {
   "cell_type": "code",
   "execution_count": null,
   "id": "6392cea2",
   "metadata": {},
   "outputs": [],
   "source": [
    "import dicttoxml\n",
    "from xml.dom.minidom import parseString\n",
    "\n",
    "outputXML = dicttoxml.dicttoxml(response, root = False, attr_type = False)\n",
    "pretty = parseString(outputXML)\n",
    "print(pretty.toprettyxml())"
   ]
  },
  {
   "cell_type": "markdown",
   "id": "56cf5574",
   "metadata": {},
   "source": [
    "From here the xml tags can be further parsed or edited as needed for the analysis or written to a file for display in a browser. Note when writing to bile to drop the characters denoting the output as a string literal (the **b'** and the closing quotation, **'**, at the end of outputXML)"
   ]
  },
  {
   "cell_type": "code",
   "execution_count": null,
   "id": "56d40ef1",
   "metadata": {},
   "outputs": [],
   "source": []
  }
 ],
 "metadata": {
  "kernelspec": {
   "display_name": "Python 3 (ipykernel)",
   "language": "python",
   "name": "python3"
  },
  "language_info": {
   "codemirror_mode": {
    "name": "ipython",
    "version": 3
   },
   "file_extension": ".py",
   "mimetype": "text/x-python",
   "name": "python",
   "nbconvert_exporter": "python",
   "pygments_lexer": "ipython3",
   "version": "3.11.0"
  }
 },
 "nbformat": 4,
 "nbformat_minor": 5
}
