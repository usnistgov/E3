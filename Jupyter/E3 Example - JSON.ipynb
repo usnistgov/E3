{
 "cells": [
  {
   "cell_type": "markdown",
   "id": "3c567582",
   "metadata": {},
   "source": [
    "# Using E3 in a Jupyter Notebook\n",
    "\n",
    "As an API, E3 is designed to be callable from any programming language capable of making API requests. This example will illustrate the process using Python and assumes you already have Python installed. "
   ]
  },
  {
   "cell_type": "markdown",
   "id": "c5c5eb53",
   "metadata": {},
   "source": [
    "**If running locally**, the **requests** library will be installed to access the API. This can be done using the following command in your computer's terminal/command prompt provided you have Python already installed (if **requests** is already installed you can skip this step)."
   ]
  },
  {
   "cell_type": "code",
   "execution_count": null,
   "id": "7e13c405",
   "metadata": {},
   "outputs": [],
   "source": [
    "%pip install -q requests"
   ]
  },
  {
   "cell_type": "markdown",
   "id": "851006f9",
   "metadata": {},
   "source": [
    "**If running Jupyter from the browser (JupyterLite)** you will need to run the following commands. Note that requests doesn't work in JupyterLite."
   ]
  },
  {
   "cell_type": "code",
   "execution_count": null,
   "id": "b54ac3b1",
   "metadata": {},
   "outputs": [],
   "source": [
    "from pyodide.ffi import to_js\n",
    "from IPython.display import JSON\n",
    "from js import Object, fetch"
   ]
  },
  {
   "cell_type": "markdown",
   "id": "24b029cb",
   "metadata": {},
   "source": [
    "With requests installed the only items remaining are to construct the JSON string to send to the API and to properly construct the API request in python. This notebook will cover constructing the JSON string from scratch. For examples of how to use input from CSV, XML and XLS/XLSX files see the **E3 Example CSV**, **E3 Example XML** and **E3 Example Excel** (in development) files, respectively. \n",
    "\n",
    "## Constructing the JSON string\n",
    "\n",
    "The format for the JSON request must be correct, otherwise E3 will return an error. In this section we will look at the required format for individual objects within E3 before putting all of them into a single JSON string for an API request. The discussion here will be focused on formatting, for a more in depth look please see the technical manual for E3. We'll start with the **Analysis** object format. **Note:** If you double click on some cells you may see **\\<br>** and **\\&emsp;** tags. These are used exclusively for formatting in Jupyter and **should not appear in the input JSON string sent to the E3 API.**"
   ]
  },
  {
   "cell_type": "markdown",
   "id": "51db30c6",
   "metadata": {},
   "source": [
    "\"analysisObject\" : { <br>\n",
    "&emsp;\"type\" : \"BCA\", <br>\n",
    "&emsp;\"projectType\" : \"Infrastructure\", <br>\n",
    "&emsp;\"outputObjects\" : [ <br>\n",
    "&emsp;&emsp;\"required\", <br>\n",
    "&emsp;&emsp;\"measure\", <br>\n",
    "&emsp;&emsp;\"optional\" <br>\n",
    "&emsp;], <br>\n",
    "&emsp;\"studyPeriod\" : 50, <br>\n",
    "&emsp;\"timestepValue\" : \"Year\", <br>\n",
    "&emsp;\"timestepComp\" : \"End_Of_Year\", <br>\n",
    "&emsp;\"outputReal\" : true, <br>\n",
    "&emsp;\"interestRate\": 0.03, <br>\n",
    "&emsp;\"discountRateReal\" : 0.03, <br>\n",
    "&emsp;\"inflationRate\" : 0.023, <br>\n",
    "&emsp;\"marr\" : 0.03, <br>\n",
    "&emsp;\"reinvestRate\" : 0.03, <br>\n",
    "&emsp;\"federalIncomeRate\": 0.22, <br>\n",
    "&emsp;\"otherIncomeRate\": 0.05, <br>\n",
    "&emsp;\"numberOfAlternatives\" : 2, <br>\n",
    "&emsp;\"baseAlternative\" : 0 <br>\n",
    "}"
   ]
  },
  {
   "cell_type": "markdown",
   "id": "e198e0a7",
   "metadata": {},
   "source": [
    "There should only be one Analysis object for the input. **Alternative** objects have the following basic format."
   ]
  },
  {
   "cell_type": "markdown",
   "id": "3475fe1b",
   "metadata": {},
   "source": [
    "{ <br>\n",
    "&emsp;\"id\" : 0, <br>\n",
    "&emsp;\"name\" : \"Alt 0 Status Quo\", <br>\n",
    "&emsp;\"bcns\" : [ <br>\n",
    "&emsp;&emsp;0 <br>\n",
    "&emsp;] <br>\n",
    "}"
   ]
  },
  {
   "cell_type": "markdown",
   "id": "a225b35d",
   "metadata": {},
   "source": [
    "Multiple alternatives are required for analysis since E3 assumes comparison to a baseline. If only one alternative exists in an analysis you can simply define an alternative with a single cost object with zero quant or quantValue (See the examples for BCNs. An example with two alternatives is presented here. Note that the **alternativeObjects** key is now prepended and the  associated value is now a list of alternative objects."
   ]
  },
  {
   "cell_type": "markdown",
   "id": "a109cd44",
   "metadata": {},
   "source": [
    "\"alternativeObjects\" : [ <br>\n",
    "&emsp;{ <br>\n",
    "&emsp;&emsp;\"id\" : 0, <br>\n",
    "&emsp;&emsp;\"name\" : \"Alt 0 Status Quo\", <br>\n",
    "&emsp;&emsp;\"bcns\" : [ <br>\n",
    "&emsp;&emsp;&emsp;0 <br>\n",
    "&emsp;&emsp;] <br>\n",
    "&emsp;}, <br>\n",
    "&emsp;{ <br>\n",
    "&emsp;&emsp;\"id\" : 1, <br>\n",
    "&emsp;&emsp;\"name\" : \"Alt 1 Build Monument\", <br>\n",
    "&emsp;&emsp;\"bcns\" : [ <br>\n",
    "&emsp;&emsp;&emsp;1, <br>\n",
    "&emsp;&emsp;&emsp;2, <br>\n",
    "&emsp;&emsp;&emsp;3, <br>\n",
    "&emsp;&emsp;&emsp;4 <br>\n",
    "&emsp;&emsp;] <br>\n",
    "&emsp;} <br>\n",
    "]"
   ]
  },
  {
   "cell_type": "markdown",
   "id": "90ec7822",
   "metadata": {},
   "source": [
    "An individual **BCN** object has the following format if the BCN doesn't recur."
   ]
  },
  {
   "cell_type": "markdown",
   "id": "897159f0",
   "metadata": {},
   "source": [
    "{ <br>\n",
    "&emsp;\"id\" : 0, <br>\n",
    "&emsp;\"altIds\" : [ <br>\n",
    "&emsp;&emsp;0 <br>\n",
    "&emsp;], <br>\n",
    "&emsp;\"type\" : \"Cost\", <br>\n",
    "&emsp;\"subType\" : \"Direct\", <br>\n",
    "&emsp;\"name\" : \"Investment Cost - Status Quo\", <br>\n",
    "&emsp;\"tags\" : \"Initial Investment\", <br>\n",
    "&emsp;\"initialOccurrence\" : 0, <br>\n",
    "&emsp;\"real\" : true, <br>\n",
    "&emsp;\"invest\" : true, <br>\n",
    "&emsp;\"residualValue\" : false, <br>\n",
    "&emsp;\"residualValueOnly\" : false, <br>\n",
    "&emsp;\"quantityValue\" : 0.0, <br>\n",
    "&emsp;\"quantity\" : 1.0 <br>\n",
    "}"
   ]
  },
  {
   "cell_type": "markdown",
   "id": "fc3d67ef",
   "metadata": {},
   "source": [
    "If the **BCN** does recur it has the following general format."
   ]
  },
  {
   "cell_type": "markdown",
   "id": "1085096b",
   "metadata": {},
   "source": [
    "{ <br>\n",
    "&emsp;\"id\" : 2, <br>\n",
    "&emsp;\"altIds\" : [ <br>\n",
    "&emsp;&emsp;1 <br>\n",
    "&emsp;], <br>\n",
    "&emsp;\"type\" : \"Cost\", <br>\n",
    "&emsp;\"subType\" : \"Direct\", <br>\n",
    "&emsp;\"name\" : \"Maintain Monument\", <br>\n",
    "&emsp;\"tags\" : \"OMR Costs\", <br>\n",
    "&emsp;\"initialOccurrence\" : 1, <br>\n",
    "&emsp;\"real\" : true, <br>\n",
    "&emsp;\"invest\" : false, <br>\n",
    "&emsp;\"life\" : 50, <br>\n",
    "&emsp;\"residualValue\" : false, <br>\n",
    "&emsp;\"residualValueOnly\" : false, <br>\n",
    "&emsp;\"recur\" : { <br>\n",
    "&emsp;&emsp;\"interval\" : 1, <br>\n",
    "&emsp;&emsp;\"end\" : 50, <br>\n",
    "&emsp;&emsp;\"varRate\" : \"Percent_Delta\", <br>\n",
    "&emsp;&emsp;\"varValue\" : 0.0 <br>\n",
    "&emsp;}, <br>\n",
    "&emsp;\"quantityValue\" : 1000.0, <br>\n",
    "&emsp;\"quantity\" : 1.0 <br>\n",
    "}"
   ]
  },
  {
   "cell_type": "markdown",
   "id": "957d450e",
   "metadata": {},
   "source": [
    "Now putting all **BCN** objects together."
   ]
  },
  {
   "cell_type": "markdown",
   "id": "6f45265c",
   "metadata": {},
   "source": [
    "\"bcnObjects\" : [ <br>\n",
    "&emsp;{ <br>\n",
    "&emsp;&emsp;\"id\" : 0, <br>\n",
    "&emsp;&emsp;\"altIds\" : [ <br>\n",
    "&emsp;&emsp;&emsp;0 <br>\n",
    "&emsp;&emsp;], <br>\n",
    "&emsp;&emsp;\"type\" : \"Cost\", <br>\n",
    "&emsp;&emsp;\"subType\" : \"Direct\", <br>\n",
    "&emsp;&emsp;\"name\" : \"Investment Cost - Status Quo\", <br>\n",
    "&emsp;&emsp;\"tags\" : \"Initial Investment\", <br>\n",
    "&emsp;&emsp;\"initialOccurrence\" : 0, <br>\n",
    "&emsp;&emsp;\"real\" : true, <br>\n",
    "&emsp;&emsp;\"invest\" : true, <br>\n",
    "&emsp;&emsp;\"residualValue\" : false, <br>\n",
    "&emsp;&emsp;\"residualValueOnly\" : false, <br>\n",
    "&emsp;&emsp;\"quantityValue\" : 0.0, <br>\n",
    "&emsp;&emsp;\"quantity\" : 1.0 <br>\n",
    "&emsp;}, <br>\n",
    "&emsp;{ <br>\n",
    "&emsp;&emsp;\"id\" : 1, <br>\n",
    "&emsp;&emsp;\"altIds\" : [ <br>\n",
    "&emsp;&emsp;&emsp;1 <br>\n",
    "&emsp;&emsp;], <br>\n",
    "&emsp;&emsp;\"type\" : \"Cost\", <br>\n",
    "&emsp;&emsp;\"subType\" : \"Direct\", <br>\n",
    "&emsp;&emsp;\"name\" : \"Construct Monument\", <br>\n",
    "&emsp;&emsp;\"tags\" : \"Investment Cost\", <br>\n",
    "&emsp;&emsp;\"initialOccurrence\" : 0, <br>\n",
    "&emsp;&emsp;\"real\" : true, <br>\n",
    "&emsp;&emsp;\"invest\" : true, <br>\n",
    "&emsp;&emsp;\"residualValue\" : false, <br>\n",
    "&emsp;&emsp;\"residualValueOnly\" : false, <br>\n",
    "&emsp;&emsp;\"quantityValue\" : 100000.0, <br>\n",
    "&emsp;&emsp;\"quantity\" : 1.0 <br>\n",
    "&emsp;}, <br>\n",
    "&emsp;{ <br>\n",
    "&emsp;&emsp;\"id\" : 2, <br>\n",
    "&emsp;&emsp;\"altIds\" : [ <br>\n",
    "&emsp;&emsp;&emsp;1 <br>\n",
    "&emsp;&emsp;], <br>\n",
    "&emsp;&emsp;\"type\" : \"Cost\", <br>\n",
    "&emsp;&emsp;\"subType\" : \"Direct\", <br>\n",
    "&emsp;&emsp;\"name\" : \"Maintain Monument\", <br>\n",
    "&emsp;&emsp;\"tags\" : \"OMR Costs\", <br>\n",
    "&emsp;&emsp;\"initialOccurrence\" : 1, <br>\n",
    "&emsp;&emsp;\"real\" : true, <br>\n",
    "&emsp;&emsp;\"invest\" : false, <br>\n",
    "&emsp;&emsp;\"life\" : 50, <br>\n",
    "&emsp;&emsp;\"residualValue\" : false, <br>\n",
    "&emsp;&emsp;\"residualValueOnly\" : false, <br>\n",
    "&emsp;&emsp;\"recur\" : { <br>\n",
    "&emsp;&emsp;&emsp;\"interval\" : 1, <br>\n",
    "&emsp;&emsp;&emsp;\"end\" : 50, <br>\n",
    "&emsp;&emsp;&emsp;\"varRate\" : \"Percent_Delta\", <br>\n",
    "&emsp;&emsp;&emsp;\"varValue\" : 0.0 <br>\n",
    "&emsp;&emsp;}, <br>\n",
    "&emsp;&emsp;\"quantityValue\" : 1000.0, <br>\n",
    "&emsp;&emsp;\"quantity\" : 1.0 <br>\n",
    "&emsp;}, <br>\n",
    "&emsp;{ <br>\n",
    "&emsp;&emsp;\"id\" : 3, <br>\n",
    "&emsp;&emsp;\"altIds\" : [ <br>\n",
    "&emsp;&emsp;&emsp;1 <br>\n",
    "&emsp;&emsp;], <br>\n",
    "&emsp;&emsp;\"type\" : \"Benefit\", <br>\n",
    "&emsp;&emsp;\"subType\" : \"Direct\", <br>\n",
    "&emsp;&emsp;\"name\" : \"Free Publicity\", <br>\n",
    "&emsp;&emsp;\"tags\" : \"Publicity\", <br>\n",
    "&emsp;&emsp;\"initialOccurrence\" : 1, <br>\n",
    "&emsp;&emsp;\"real\" : true, <br>\n",
    "&emsp;&emsp;\"invest\" : false, <br>\n",
    "&emsp;&emsp;\"residualValue\" : false, <br>\n",
    "&emsp;&emsp;\"residualValueOnly\" : false, <br>\n",
    "&emsp;&emsp;\"quantityValue\" : 50000.0, <br>\n",
    "&emsp;&emsp;\"quantity\" : 1.0 <br>\n",
    "&emsp;}, <br>\n",
    "&emsp;{ <br>\n",
    "&emsp;&emsp;\"id\" : 4, <br>\n",
    "&emsp;&emsp;\"altIds\" : [ <br>\n",
    "&emsp;&emsp;&emsp;1 <br>\n",
    "&emsp;&emsp;], <br>\n",
    "&emsp;&emsp;\"type\" : \"Benefit\", <br>\n",
    "&emsp;&emsp;\"subType\" : \"Externality\", <br>\n",
    "&emsp;&emsp;\"name\" : \"Increased Tourism\", <br>\n",
    "&emsp;&emsp;\"tags\" : \"Tourism\", <br>\n",
    "&emsp;&emsp;\"initialOccurrence\" : 1, <br>\n",
    "&emsp;&emsp;\"real\" : true, <br>\n",
    "&emsp;&emsp;\"invest\" : false, <br>\n",
    "&emsp;&emsp;\"residualValue\" : false, <br>\n",
    "&emsp;&emsp;\"residualValueOnly\" : false, <br>\n",
    "&emsp;&emsp;\"recur\" : { <br>\n",
    "&emsp;&emsp;&emsp;\"interval\" : 1 <br>\n",
    "&emsp;&emsp;}, <br>\n",
    "&emsp;&emsp;\"quantityValue\" : 5000.0, <br>\n",
    "&emsp;&emsp;\"quantity\" : 1.0 <br>\n",
    "&emsp;} <br>\n",
    "]"
   ]
  },
  {
   "cell_type": "markdown",
   "id": "b349ba89",
   "metadata": {},
   "source": [
    "With all the individual pieces in place the final JSON string can be constructed. Note that the following is a python dictionary, hence the capitalized **True** and **False**. Due to the similar structure of a Python dictionary and a JSON string and the availability of the **JSON** library it is easier to define the input as a dictionary first, which usualy requires only minor edits such as the aforementioned capilatization issue for Booleans, and then allowing Python to handle serialization. This dictionary will be converted to a JSON string using python's JSON library. If you want to work with JSON directly you may simply define **inputJSON** as a string literal with any necessary escape characters and pass the raw string in the API request for the **data** input."
   ]
  },
  {
   "cell_type": "code",
   "execution_count": null,
   "id": "1584abf4",
   "metadata": {},
   "outputs": [],
   "source": [
    "inputJSON = {\n",
    "  \"analysisObject\" : {\n",
    "    \"type\" : \"BCA\",\n",
    "    \"projectType\" : \"Infrastructure\",\n",
    "    \"outputObjects\" : [\n",
    "      \"measure\"\n",
    "    ],\n",
    "    \"studyPeriod\" : 50,\n",
    "    \"timestepValue\" : \"Year\",\n",
    "    \"timestepComp\" : \"End_Of_Year\",\n",
    "    \"outputReal\" : True,\n",
    "    \"intereseRate\": 0.03,\n",
    "    \"discountRateReal\" : 0.03,\n",
    "    \"inflationRate\" : 0.023,\n",
    "    \"marr\" : 0.03,\n",
    "    \"reinvestRate\" : 0.03,\n",
    "    \"federalIncomeRate\": 0.22,\n",
    "    \"otherIncomeRate\": 0.05,\n",
    "    \"numberOfAlternatives\" : 2,\n",
    "    \"baseAlternative\" : 0\n",
    "  },\n",
    "  \"alternativeObjects\" : [\n",
    "    {\n",
    "      \"id\" : 0,\n",
    "      \"name\" : \"Alt 0 Status Quo\",\n",
    "      \"bcns\" : [\n",
    "        0\n",
    "      ]\n",
    "    },\n",
    "    {\n",
    "      \"id\" : 1,\n",
    "      \"name\" : \"Alt 1 Build Monument\",\n",
    "      \"bcns\" : [\n",
    "        1,\n",
    "        2,\n",
    "        3,\n",
    "        4\n",
    "      ]\n",
    "    }\n",
    "  ],\n",
    "  \"bcnObjects\" : [\n",
    "    {\n",
    "      \"id\" : 0,\n",
    "      \"altIds\" : [\n",
    "        0\n",
    "      ],\n",
    "      \"type\" : \"Cost\",\n",
    "      \"subType\" : \"Direct\",\n",
    "      \"name\" : \"Investment Cost - Status Quo\",\n",
    "      \"tags\" : \"Initial Investment\",\n",
    "      \"initialOccurrence\" : 0,\n",
    "      \"real\" : True,\n",
    "      \"invest\" : True,\n",
    "      \"residualValue\" : False,\n",
    "      \"residualValueOnly\" : False,\n",
    "      \"quantityValue\" : 0.0,\n",
    "      \"quantity\" : 1.0\n",
    "    },\n",
    "    {\n",
    "      \"id\" : 1,\n",
    "      \"altIds\" : [\n",
    "        1\n",
    "      ],\n",
    "      \"type\" : \"Cost\",\n",
    "      \"subType\" : \"Direct\",\n",
    "      \"name\" : \"Construct Monument\",\n",
    "      \"tags\" : \"Investment Cost\",\n",
    "      \"initialOccurrence\" : 0,\n",
    "      \"real\" : True,\n",
    "      \"invest\" : True,\n",
    "      \"residualValue\" : False,\n",
    "      \"residualValueOnly\" : False,\n",
    "      \"quantityValue\" : 100000.0,\n",
    "      \"quantity\" : 1.0\n",
    "    },\n",
    "    {\n",
    "      \"id\" : 2,\n",
    "      \"altIds\" : [\n",
    "        1\n",
    "      ],\n",
    "      \"type\" : \"Cost\",\n",
    "      \"subType\" : \"Direct\",\n",
    "      \"name\" : \"Maintain Monument\",\n",
    "      \"tags\" : \"OMR Costs\",\n",
    "      \"initialOccurrence\" : 1,\n",
    "      \"real\" : True,\n",
    "      \"invest\" : False,\n",
    "      \"life\" : 50,\n",
    "      \"residualValue\" : False,\n",
    "      \"residualValueOnly\" : False,\n",
    "      \"recur\" : {\n",
    "        \"interval\" : 1,\n",
    "        \"varRate\" : \"Percent_Delta\",\n",
    "        \"varValue\" : 0.0\n",
    "      },\n",
    "      \"quantityValue\" : 1000.0,\n",
    "      \"quantity\" : 1.0\n",
    "    },\n",
    "    {\n",
    "      \"id\" : 3,\n",
    "      \"altIds\" : [\n",
    "        1\n",
    "      ],\n",
    "      \"type\" : \"Benefit\",\n",
    "      \"subType\" : \"Direct\",\n",
    "      \"name\" : \"Free Publicity\",\n",
    "      \"tags\" : \"Publicity\",\n",
    "      \"initialOccurrence\" : 1,\n",
    "      \"real\" : True,\n",
    "      \"invest\" : False,\n",
    "      \"residualValue\" : False,\n",
    "      \"residualValueOnly\" : False,\n",
    "      \"quantityValue\" : 50000.0,\n",
    "      \"quantity\" : 1.0\n",
    "    },\n",
    "    {\n",
    "      \"id\" : 4,\n",
    "      \"altIds\" : [\n",
    "        1\n",
    "      ],\n",
    "      \"type\" : \"Benefit\",\n",
    "      \"subType\" : \"Externality\",\n",
    "      \"name\" : \"Increased Tourism\",\n",
    "      \"tags\" : \"Tourism\",\n",
    "      \"initialOccurrence\" : 1,\n",
    "      \"real\" : True,\n",
    "      \"invest\" : False,\n",
    "      \"residualValue\" : False,\n",
    "      \"residualValueOnly\" : False,\n",
    "      \"recur\" : {\n",
    "        \"interval\" : 1\n",
    "      },\n",
    "      \"quantityValue\" : 5000.0,\n",
    "      \"quantity\" : 1.0\n",
    "    }\n",
    "  ]\n",
    "}"
   ]
  },
  {
   "cell_type": "markdown",
   "id": "889dc3a2",
   "metadata": {},
   "source": [
    "An API key is required to use E3. Paste yours where it says API_KEY. To get an API key you need to go to https://e3.nist.gov, create a log in and request a new key. The key should be passed in the **Authorization** header. The **Accept** header defines the output the client will accept while the **Content-Type** header defines the format of the sent data."
   ]
  },
  {
   "cell_type": "code",
   "execution_count": null,
   "id": "105dd71d",
   "metadata": {},
   "outputs": [],
   "source": [
    "headers = {'Content-Type': \"application/json\", \n",
    "           'Accept': \"application/json\", \n",
    "           'Authorization': \"Api-Key: CXizFToEOIWa.a8606a6d-d9ae-4907-93a7-ea64c253c37f\"\n",
    "          }"
   ]
  },
  {
   "cell_type": "markdown",
   "id": "e229f252",
   "metadata": {},
   "source": [
    "The full request can now be made. **If running locally use the request library and the following code.**"
   ]
  },
  {
   "cell_type": "code",
   "execution_count": null,
   "id": "bb27e6ad",
   "metadata": {},
   "outputs": [],
   "source": [
    "import requests\n",
    "import json\n",
    "api_url = \"https://e3.nist.gov/api/v2/analysis\"\n",
    "response = requests.post(api_url, data=json.dumps(inputJSON), headers=headers)\n",
    "response.json()\n",
    "response.status_code\n",
    "\n",
    "# The status code can be dropped if the request is successful\n",
    "if response.status_code == 200:\n",
    "    response = response.json()\n",
    "    print(response)\n",
    "else:\n",
    "    print(\"Error:\", response.status_code)"
   ]
  },
  {
   "cell_type": "markdown",
   "id": "a8730f8c",
   "metadata": {},
   "source": [
    "**If running through JupyterLite use the following code.**"
   ]
  },
  {
   "cell_type": "code",
   "execution_count": null,
   "id": "76f46df9",
   "metadata": {},
   "outputs": [],
   "source": [
    "import json\n",
    "\n",
    "resp = await fetch(\"https://e3.nist.gov/api/v2/analysis\",\n",
    "                       method = \"POST\",\n",
    "                       body = json.dumps(inputJSON),\n",
    "                       credentials = \"same-origin\",\n",
    "                       headers = Object.fromEntries(to_js(headers))\n",
    "                      )\n",
    "response = await resp.text()\n",
    "response = json.loads(response)\n",
    "\n",
    "print(response)"
   ]
  },
  {
   "cell_type": "markdown",
   "id": "0cde2dce",
   "metadata": {},
   "source": [
    "We can now pull output from the reponse object."
   ]
  },
  {
   "cell_type": "code",
   "execution_count": null,
   "id": "034cdf75",
   "metadata": {},
   "outputs": [],
   "source": [
    "print(\"Net Benefits: Alt 0 Status Quo:\", response['measure'][0]['netBenefits'])\n",
    "print(\"Net Benefits: Alt 1 Build Monument:\", response['measure'][1]['netBenefits'])\n",
    "print(\"BCR: Alt 0 Status Quo:\", response['measure'][0]['bcr'])\n",
    "print(\"BCR: Alt 1 Build Monument:\", response['measure'][1]['bcr'])"
   ]
  },
  {
   "cell_type": "code",
   "execution_count": null,
   "id": "e4b88791",
   "metadata": {},
   "outputs": [],
   "source": []
  }
 ],
 "metadata": {
  "kernelspec": {
   "display_name": "Python 3 (ipykernel)",
   "language": "python",
   "name": "python3"
  },
  "language_info": {
   "codemirror_mode": {
    "name": "ipython",
    "version": 3
   },
   "file_extension": ".py",
   "mimetype": "text/x-python",
   "name": "python",
   "nbconvert_exporter": "python",
   "pygments_lexer": "ipython3",
   "version": "3.11.0"
  }
 },
 "nbformat": 4,
 "nbformat_minor": 5
}
